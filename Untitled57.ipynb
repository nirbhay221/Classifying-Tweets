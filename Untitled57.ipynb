{
  "nbformat": 4,
  "nbformat_minor": 0,
  "metadata": {
    "colab": {
      "name": "Untitled57.ipynb",
      "provenance": [],
      "collapsed_sections": []
    },
    "kernelspec": {
      "name": "python3",
      "display_name": "Python 3"
    }
  },
  "cells": [
    {
      "cell_type": "code",
      "metadata": {
        "id": "UlDh0CZGu6La"
      },
      "source": [
        "import numpy as np \n",
        "import pandas as pd \n",
        "import matplotlib.pyplot as plt \n",
        "from sklearn.model_selection import train_test_split,GridSearchCV\n",
        "from sklearn.feature_extraction.text import TfidfVectorizer,CountVectorizer\n",
        "from sklearn.svm import LinearSVC\n",
        "from sklearn.naive_bayes import MultinomialNB\n",
        "from sklearn.metrics import confusion_matrix,accuracy_score\n",
        "from sklearn import preprocessing\n",
        "%matplotlib inline\n"
      ],
      "execution_count": null,
      "outputs": []
    },
    {
      "cell_type": "code",
      "metadata": {
        "id": "oqNVmWNuEPk8",
        "outputId": "7e273901-6a92-42e1-b380-58173ab7ca85",
        "colab": {
          "base_uri": "https://localhost:8080/",
          "height": 204
        }
      },
      "source": [
        "df = pd.read_csv('/content/tweets.csv')\n",
        "df.head()"
      ],
      "execution_count": null,
      "outputs": [
        {
          "output_type": "execute_result",
          "data": {
            "text/html": [
              "<div>\n",
              "<style scoped>\n",
              "    .dataframe tbody tr th:only-of-type {\n",
              "        vertical-align: middle;\n",
              "    }\n",
              "\n",
              "    .dataframe tbody tr th {\n",
              "        vertical-align: top;\n",
              "    }\n",
              "\n",
              "    .dataframe thead th {\n",
              "        text-align: right;\n",
              "    }\n",
              "</style>\n",
              "<table border=\"1\" class=\"dataframe\">\n",
              "  <thead>\n",
              "    <tr style=\"text-align: right;\">\n",
              "      <th></th>\n",
              "      <th>id</th>\n",
              "      <th>author</th>\n",
              "      <th>status</th>\n",
              "    </tr>\n",
              "  </thead>\n",
              "  <tbody>\n",
              "    <tr>\n",
              "      <th>0</th>\n",
              "      <td>1</td>\n",
              "      <td>Donald J. Trump</td>\n",
              "      <td>I will be making a major statement from the @W...</td>\n",
              "    </tr>\n",
              "    <tr>\n",
              "      <th>1</th>\n",
              "      <td>2</td>\n",
              "      <td>Donald J. Trump</td>\n",
              "      <td>Just arrived at #ASEAN50 in the Philippines fo...</td>\n",
              "    </tr>\n",
              "    <tr>\n",
              "      <th>2</th>\n",
              "      <td>3</td>\n",
              "      <td>Donald J. Trump</td>\n",
              "      <td>After my tour of Asia, all Countries dealing w...</td>\n",
              "    </tr>\n",
              "    <tr>\n",
              "      <th>3</th>\n",
              "      <td>4</td>\n",
              "      <td>Donald J. Trump</td>\n",
              "      <td>Great to see @RandPaul looking well and back o...</td>\n",
              "    </tr>\n",
              "    <tr>\n",
              "      <th>4</th>\n",
              "      <td>5</td>\n",
              "      <td>Donald J. Trump</td>\n",
              "      <td>Excited to be heading home to see the House pa...</td>\n",
              "    </tr>\n",
              "  </tbody>\n",
              "</table>\n",
              "</div>"
            ],
            "text/plain": [
              "   id           author                                             status\n",
              "0   1  Donald J. Trump  I will be making a major statement from the @W...\n",
              "1   2  Donald J. Trump  Just arrived at #ASEAN50 in the Philippines fo...\n",
              "2   3  Donald J. Trump  After my tour of Asia, all Countries dealing w...\n",
              "3   4  Donald J. Trump  Great to see @RandPaul looking well and back o...\n",
              "4   5  Donald J. Trump  Excited to be heading home to see the House pa..."
            ]
          },
          "metadata": {
            "tags": []
          },
          "execution_count": 11
        }
      ]
    },
    {
      "cell_type": "code",
      "metadata": {
        "id": "0c2K-3_QGk0I"
      },
      "source": [
        "x = df['status']\n",
        "y = df['author']\n",
        "x_train,x_test,y_train,y_test = train_test_split(x,y,test_size = 0.33,random_state =53 )\n"
      ],
      "execution_count": null,
      "outputs": []
    },
    {
      "cell_type": "code",
      "metadata": {
        "id": "XOqzDXssHAve"
      },
      "source": [
        "tf = TfidfVectorizer(stop_words='english',min_df =0.05 ,max_df=0.9)\n",
        "xtraintf = tf.fit_transform(x_train)\n",
        "xtesttf = tf.transform(x_test)\n",
        "ct = CountVectorizer(stop_words= 'english',min_df =0.05 ,max_df= 0.9)\n",
        "xtrainct = ct.fit_transform(x_train)\n",
        "xtestct=ct.transform(x_test)\n",
        "nb = MultinomialNB()"
      ],
      "execution_count": null,
      "outputs": []
    },
    {
      "cell_type": "code",
      "metadata": {
        "id": "QdA_v2kaH_uN",
        "outputId": "6ad062f9-dd7a-4756-9cb4-0ef568b8c1fc",
        "colab": {
          "base_uri": "https://localhost:8080/",
          "height": 85
        }
      },
      "source": [
        "nb.fit(xtraintf,y_train)\n",
        "y_pred_tf = nb.predict(xtesttf)\n",
        "nbf= MultinomialNB()\n",
        "nbf.fit(xtrainct,y_train)\n",
        "y_pred_ct = nbf.predict(xtestct)\n",
        "print(confusion_matrix(y_test,y_pred_tf))\n",
        "\n",
        "print(confusion_matrix(y_test,y_pred_ct))"
      ],
      "execution_count": null,
      "outputs": [
        {
          "output_type": "stream",
          "text": [
            "[[56  2]\n",
            " [24 50]]\n",
            "[[56  2]\n",
            " [25 49]]\n"
          ],
          "name": "stdout"
        }
      ]
    },
    {
      "cell_type": "code",
      "metadata": {
        "id": "Uxinw7nkIy-2",
        "outputId": "8e45d764-458d-416e-efe4-92806ba24c7f",
        "colab": {
          "base_uri": "https://localhost:8080/",
          "height": 34
        }
      },
      "source": [
        "accuracy_score(y_test,y_pred_tf),accuracy_score(y_test,y_pred_ct)"
      ],
      "execution_count": null,
      "outputs": [
        {
          "output_type": "execute_result",
          "data": {
            "text/plain": [
              "(0.803030303030303, 0.7954545454545454)"
            ]
          },
          "metadata": {
            "tags": []
          },
          "execution_count": 26
        }
      ]
    },
    {
      "cell_type": "code",
      "metadata": {
        "id": "VNf9Pd-KKiHa",
        "outputId": "5e4c30a0-ee15-426c-8b34-b5ad858999b9",
        "colab": {
          "base_uri": "https://localhost:8080/",
          "height": 34
        }
      },
      "source": [
        "nb.score(xtestct,y_test),nbf.score(xtesttf,y_test)"
      ],
      "execution_count": null,
      "outputs": [
        {
          "output_type": "execute_result",
          "data": {
            "text/plain": [
              "(0.803030303030303, 0.7878787878787878)"
            ]
          },
          "metadata": {
            "tags": []
          },
          "execution_count": 27
        }
      ]
    },
    {
      "cell_type": "code",
      "metadata": {
        "id": "kF2ONEBUK0dK"
      },
      "source": [
        "svc = LinearSVC()\n",
        "svc.fit(xtraintf,y_train)\n",
        "y_predvc = svc.predict(xtesttf)\n"
      ],
      "execution_count": null,
      "outputs": []
    },
    {
      "cell_type": "code",
      "metadata": {
        "id": "-U4uOPNiN-T6",
        "outputId": "c661e86d-d5c0-47c9-dfff-76e52dbc377f",
        "colab": {
          "base_uri": "https://localhost:8080/",
          "height": 51
        }
      },
      "source": [
        "confusion_matrix(y_predvc,y_test),accuracy_score(y_predvc,y_test)"
      ],
      "execution_count": null,
      "outputs": [
        {
          "output_type": "execute_result",
          "data": {
            "text/plain": [
              "(array([[55, 18],\n",
              "        [ 3, 56]]), 0.8409090909090909)"
            ]
          },
          "metadata": {
            "tags": []
          },
          "execution_count": 30
        }
      ]
    },
    {
      "cell_type": "code",
      "metadata": {
        "id": "XR3pk6jeOddg",
        "outputId": "432e7fa8-bf64-4bf2-c062-8b1612c73069",
        "colab": {
          "base_uri": "https://localhost:8080/",
          "height": 34
        }
      },
      "source": [
        "max_iter = [0.1,0.01,0.001,0.0001,0.00001]\n",
        "tol = [10,1,150,100,1000,10000,100000]\n",
        "param_grid = dict(max_iter=max_iter,tol= tol)\n",
        "grid_model = GridSearchCV(param_grid=param_grid,estimator=svc,cv =100)\n",
        "grid_model.fit(xtraintf,y_train)\n",
        "best_score,best_params = grid_model.best_score_,grid_model.best_params_\n",
        "best_score,best_params"
      ],
      "execution_count": null,
      "outputs": [
        {
          "output_type": "execute_result",
          "data": {
            "text/plain": [
              "(0.5266666666666666, {'max_iter': 0.1, 'tol': 10})"
            ]
          },
          "metadata": {
            "tags": []
          },
          "execution_count": 40
        }
      ]
    },
    {
      "cell_type": "code",
      "metadata": {
        "id": "P2VNuawhO1IR"
      },
      "source": [
        ""
      ],
      "execution_count": null,
      "outputs": []
    }
  ]
}